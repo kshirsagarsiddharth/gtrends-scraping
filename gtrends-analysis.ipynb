{
 "cells": [
  {
   "cell_type": "code",
   "execution_count": 1,
   "metadata": {},
   "outputs": [],
   "source": [
    "from selenium import webdriver\n",
    "from selenium.webdriver.chrome.service import Service as ChromeService\n",
    "from webdriver_manager.chrome import ChromeDriverManager\n",
    "from selenium.webdriver.common.by import By \n",
    "from selenium.webdriver.common.keys import Keys\n",
    "import pandas as pd \n",
    "from selenium.webdriver.chrome.options import Options\n",
    "import os \n",
    "from glob import glob\n",
    "from io import StringIO \n",
    "import shutil\n",
    "import uuid\n",
    "\n",
    "download_folder = r\"D:\\gtrends-scraping\\scraped_data_temp\"  # Change this to your desired download path\n",
    "\n",
    "chrome_options = Options()\n",
    "chrome_options.add_experimental_option('prefs', {\n",
    "    \"download.default_directory\": download_folder,\n",
    "    \"download.prompt_for_download\": False,  # To prevent the download prompt\n",
    "    \"download.directory_upgrade\": True,\n",
    "})\n",
    "\n",
    "driver = webdriver.Chrome(service=ChromeService(ChromeDriverManager().install()), options=chrome_options)"
   ]
  },
  {
   "cell_type": "code",
   "execution_count": 2,
   "metadata": {},
   "outputs": [],
   "source": [
    "def make_temp_folder(download_folder = download_folder):\n",
    "    if not os.path.exists(download_folder): \n",
    "        os.makedirs(download_folder)\n",
    "make_temp_folder()"
   ]
  },
  {
   "cell_type": "code",
   "execution_count": 3,
   "metadata": {},
   "outputs": [],
   "source": [
    "driver.get('https://trends.google.com/trends/explore?geo=IN&hl=en')\n",
    "driver.maximize_window()\n",
    "driver.refresh()"
   ]
  },
  {
   "cell_type": "code",
   "execution_count": 4,
   "metadata": {},
   "outputs": [],
   "source": [
    "try:\n",
    "    cookie_button = driver.find_element(By.XPATH,'//*[@id=\"cookieBar\"]/div/span[2]/a[2]') \n",
    "    cookie_button.click()\n",
    "except Exception as e: \n",
    "    print(e)"
   ]
  },
  {
   "cell_type": "code",
   "execution_count": 5,
   "metadata": {},
   "outputs": [],
   "source": [
    "KEYS_TO_SEND = 'pollution'\n",
    "COUNTRY_NAME = 'Indonesia'"
   ]
  },
  {
   "cell_type": "code",
   "execution_count": 6,
   "metadata": {},
   "outputs": [],
   "source": [
    "search_term = driver.find_element(By.XPATH,'//*[@id=\"input-29\"]')\n",
    "search_term.send_keys(KEYS_TO_SEND)\n",
    "search_term.send_keys(Keys.RETURN)"
   ]
  },
  {
   "cell_type": "code",
   "execution_count": 7,
   "metadata": {},
   "outputs": [],
   "source": [
    "def search_country_name(country_name): \n",
    "    country_search = driver.find_element(By.XPATH,'//*[@id=\"compare-pickers-wrapper\"]/div/hierarchy-picker[1]/ng-include/div[1]')\n",
    "    country_search.click()\n",
    "    send_country_name = driver.find_element(By.XPATH,'//*[@id=\"input-10\"]')\n",
    "    send_country_name.send_keys(country_name)\n",
    "    send_country_name.send_keys(Keys.ARROW_DOWN)\n",
    "    send_country_name.send_keys(Keys.RETURN)\n",
    "\n"
   ]
  },
  {
   "cell_type": "code",
   "execution_count": 8,
   "metadata": {},
   "outputs": [],
   "source": [
    "search_country_name(COUNTRY_NAME)"
   ]
  },
  {
   "cell_type": "code",
   "execution_count": 9,
   "metadata": {},
   "outputs": [],
   "source": [
    "month_picker = driver.find_element(By.XPATH,'//*[@id=\"compare-pickers-wrapper\"]/div/custom-date-picker')\n",
    "month_picker.click()\n",
    "\n",
    "# month_dropdown = driver.find_element(By.XPATH,'//*[@id=\"select_option_24\"]')\n",
    "# month_dropdown.click()"
   ]
  },
  {
   "cell_type": "code",
   "execution_count": 10,
   "metadata": {},
   "outputs": [],
   "source": [
    "date_five_year_element = driver.find_element(\n",
    "    By.XPATH, '//div[contains(text(),\"Past 5 years\")]'\n",
    ")\n",
    "date_five_year_element.click()"
   ]
  },
  {
   "cell_type": "code",
   "execution_count": 14,
   "metadata": {},
   "outputs": [],
   "source": [
    "import shutil\n",
    "\n",
    "def remove_temp_folder(download_folder):\n",
    "    try:\n",
    "        shutil.rmtree(download_folder)\n",
    "    except FileNotFoundError: \n",
    "        pass \n",
    "\n"
   ]
  },
  {
   "cell_type": "code",
   "execution_count": 15,
   "metadata": {},
   "outputs": [],
   "source": [
    "related_topics_download = driver.find_element(\n",
    "    By.XPATH,\n",
    "    \"/html/body/div[2]/div[2]/div/md-content/div/div/div[3]/trends-widget/ng-include/widget/div/div/div/widget-actions/div/button[1]\",\n",
    ")\n",
    "\n",
    "related_topics_download.click()\n",
    "\n",
    "related_queries_download = driver.find_element(\n",
    "    By.XPATH, \n",
    "    \"/html/body/div[2]/div[2]/div/md-content/div/div/div[4]/trends-widget/ng-include/widget/div/div/div/widget-actions/div/button[1]\"\n",
    ")\n",
    "\n",
    "related_queries_download.click()"
   ]
  },
  {
   "cell_type": "code",
   "execution_count": 21,
   "metadata": {},
   "outputs": [],
   "source": [
    "import pandas as pd\n",
    "\n",
    "def process_lines(lines):\n",
    "    top_index = lines.index(\"TOP\\n\")\n",
    "    rising_index = lines.index(\"RISING\\n\")\n",
    "\n",
    "    top_values = lines[top_index : rising_index - 1]\n",
    "    rising_values = lines[rising_index : len(lines)]\n",
    "\n",
    "    top_values_text = \"\".join(top_values)\n",
    "    rising_values_text = \"\".join(rising_values)\n",
    "\n",
    "    rising_df = pd.read_csv(\n",
    "        StringIO(rising_values_text),\n",
    "    ).reset_index()\n",
    "    rising_df.columns = [\"TERM\", \"CHANGE\"]\n",
    "    rising_df[\"IDENTIFIER\"] = \"RISING\"\n",
    "\n",
    "    top_df = pd.read_csv(\n",
    "        StringIO(top_values_text),\n",
    "    ).reset_index()\n",
    "    top_df.columns = [\"TERM\", \"CHANGE\"]\n",
    "    top_df[\"IDENTIFIER\"] = \"TOP\"\n",
    "\n",
    "    return top_df, rising_df"
   ]
  },
  {
   "cell_type": "code",
   "execution_count": 23,
   "metadata": {},
   "outputs": [],
   "source": [
    "def process_related_topics():\n",
    "    with open(download_folder + r\"\\relatedEntities.csv\") as file:\n",
    "\n",
    "        lines = file.readlines()\n",
    "        top_df, rising_df = process_lines(lines)\n",
    "\n",
    "    df = pd.concat([top_df, rising_df])\n",
    "    df['RELATED_TYPE'] = 'RELATED_TOPICS'\n",
    "    return df \n",
    "\n",
    "\n",
    "def process_related_queries():\n",
    "    with open(download_folder + r\"\\relatedQueries.csv\") as file:\n",
    "        lines = file.readlines()\n",
    "        top_df, rising_df = process_lines(lines)\n",
    "\n",
    "    df = pd.concat([top_df, rising_df])\n",
    "    df['RELATED_TYPE'] = 'RELATED_QUERIES'\n",
    "    return df "
   ]
  },
  {
   "cell_type": "code",
   "execution_count": 24,
   "metadata": {},
   "outputs": [],
   "source": [
    "df = pd.concat([process_related_queries(), process_related_topics()])"
   ]
  },
  {
   "cell_type": "code",
   "execution_count": 27,
   "metadata": {},
   "outputs": [],
   "source": [
    "trend_data = driver.find_element(By.XPATH,\"/html/body/div[2]/div[2]/div/md-content/div/div/div[1]/trends-widget/ng-include/widget/div/div/div/widget-actions/div/button[1]\")\n",
    "trend_data.click()"
   ]
  },
  {
   "cell_type": "code",
   "execution_count": 30,
   "metadata": {},
   "outputs": [],
   "source": [
    "trends_data = rf\"{download_folder}\\multiTimeline.csv\""
   ]
  },
  {
   "cell_type": "code",
   "execution_count": 31,
   "metadata": {},
   "outputs": [],
   "source": [
    "trends_df = pd.read_csv(trends_data, skiprows=2)"
   ]
  },
  {
   "cell_type": "code",
   "execution_count": 32,
   "metadata": {},
   "outputs": [
    {
     "data": {
      "text/html": [
       "<div>\n",
       "<style scoped>\n",
       "    .dataframe tbody tr th:only-of-type {\n",
       "        vertical-align: middle;\n",
       "    }\n",
       "\n",
       "    .dataframe tbody tr th {\n",
       "        vertical-align: top;\n",
       "    }\n",
       "\n",
       "    .dataframe thead th {\n",
       "        text-align: right;\n",
       "    }\n",
       "</style>\n",
       "<table border=\"1\" class=\"dataframe\">\n",
       "  <thead>\n",
       "    <tr style=\"text-align: right;\">\n",
       "      <th></th>\n",
       "      <th>Week</th>\n",
       "      <th>pollution: (Indonesia)</th>\n",
       "    </tr>\n",
       "  </thead>\n",
       "  <tbody>\n",
       "    <tr>\n",
       "      <th>0</th>\n",
       "      <td>2019-03-17</td>\n",
       "      <td>57</td>\n",
       "    </tr>\n",
       "    <tr>\n",
       "      <th>1</th>\n",
       "      <td>2019-03-24</td>\n",
       "      <td>53</td>\n",
       "    </tr>\n",
       "    <tr>\n",
       "      <th>2</th>\n",
       "      <td>2019-03-31</td>\n",
       "      <td>36</td>\n",
       "    </tr>\n",
       "    <tr>\n",
       "      <th>3</th>\n",
       "      <td>2019-04-07</td>\n",
       "      <td>47</td>\n",
       "    </tr>\n",
       "    <tr>\n",
       "      <th>4</th>\n",
       "      <td>2019-04-14</td>\n",
       "      <td>39</td>\n",
       "    </tr>\n",
       "    <tr>\n",
       "      <th>...</th>\n",
       "      <td>...</td>\n",
       "      <td>...</td>\n",
       "    </tr>\n",
       "    <tr>\n",
       "      <th>257</th>\n",
       "      <td>2024-02-18</td>\n",
       "      <td>45</td>\n",
       "    </tr>\n",
       "    <tr>\n",
       "      <th>258</th>\n",
       "      <td>2024-02-25</td>\n",
       "      <td>51</td>\n",
       "    </tr>\n",
       "    <tr>\n",
       "      <th>259</th>\n",
       "      <td>2024-03-03</td>\n",
       "      <td>47</td>\n",
       "    </tr>\n",
       "    <tr>\n",
       "      <th>260</th>\n",
       "      <td>2024-03-10</td>\n",
       "      <td>30</td>\n",
       "    </tr>\n",
       "    <tr>\n",
       "      <th>261</th>\n",
       "      <td>2024-03-17</td>\n",
       "      <td>32</td>\n",
       "    </tr>\n",
       "  </tbody>\n",
       "</table>\n",
       "<p>262 rows × 2 columns</p>\n",
       "</div>"
      ],
      "text/plain": [
       "           Week  pollution: (Indonesia)\n",
       "0    2019-03-17                      57\n",
       "1    2019-03-24                      53\n",
       "2    2019-03-31                      36\n",
       "3    2019-04-07                      47\n",
       "4    2019-04-14                      39\n",
       "..          ...                     ...\n",
       "257  2024-02-18                      45\n",
       "258  2024-02-25                      51\n",
       "259  2024-03-03                      47\n",
       "260  2024-03-10                      30\n",
       "261  2024-03-17                      32\n",
       "\n",
       "[262 rows x 2 columns]"
      ]
     },
     "execution_count": 32,
     "metadata": {},
     "output_type": "execute_result"
    }
   ],
   "source": [
    "trends_df"
   ]
  },
  {
   "cell_type": "code",
   "execution_count": null,
   "metadata": {},
   "outputs": [],
   "source": []
  }
 ],
 "metadata": {
  "kernelspec": {
   "display_name": "venv",
   "language": "python",
   "name": "python3"
  },
  "language_info": {
   "codemirror_mode": {
    "name": "ipython",
    "version": 3
   },
   "file_extension": ".py",
   "mimetype": "text/x-python",
   "name": "python",
   "nbconvert_exporter": "python",
   "pygments_lexer": "ipython3",
   "version": "3.12.2"
  }
 },
 "nbformat": 4,
 "nbformat_minor": 2
}
